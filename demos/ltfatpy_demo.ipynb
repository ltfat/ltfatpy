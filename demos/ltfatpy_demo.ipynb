{
 "cells": [
  {
   "cell_type": "markdown",
   "id": "8af51797-8046-45fd-8ca0-176cb27e312b",
   "metadata": {},
   "source": [
    "# Importing all necessary modules"
   ]
  },
  {
   "cell_type": "code",
   "execution_count": 1,
   "id": "0a9864e6-62af-4af9-8a08-97d9ae2de54d",
   "metadata": {
    "scrolled": true
   },
   "outputs": [
    {
     "name": "stdout",
     "output_type": "stream",
     "text": [
      "\u001b[?2004l\n",
      "\u001b[?2004l\n",
      "\u001b[?2004l\n",
      "\u001b[?2004l\n",
      "LTFAT version 2.6.0. Copyright 2005-2023 Peter L. Søndergaard. For help, please type \"ltfathelp\". LTFAT is using the script language backend.\n"
     ]
    }
   ],
   "source": [
    "#this path depends on the virtual environment used (can be uncommented under windows)\n",
    "import sys\n",
    "sys.path.append(\"/home/clara/Documents/clara/lib/python3.11/site-packages/\")\n",
    "#--------------------------------------------------------------------------------------\n",
    "import numpy as np\n",
    "import matplotlib.pyplot as plt\n",
    "import ltfatpy as lp"
   ]
  },
  {
   "cell_type": "markdown",
   "id": "b1b0662f-e16d-420a-8cca-6c5b109af777",
   "metadata": {},
   "source": [
    "# Calculating a Discrete Gabor Transform via LTFAT"
   ]
  },
  {
   "cell_type": "code",
   "execution_count": 3,
   "id": "8385e636-54ff-41e5-a8e6-5846ed777914",
   "metadata": {},
   "outputs": [
    {
     "name": "stdout",
     "output_type": "stream",
     "text": [
      "\u001b[?2004l\n",
      "\u001b[?2004l\n",
      "\u001b[?2004l\n",
      "'dgt' is a function from the file /home/clara/Documents/ltfatpy/ltfatpy/ltfat/gabor/dgt.m\n",
      "\n",
      "DGT  Discrete Gabor transform\n",
      "   Usage:  c=dgt(f,g,a,M);\n",
      "           c=dgt(f,g,a,M,L);\n",
      "           c=dgt(f,g,a,M,'lt',lt);\n",
      "           [c,Ls]=dgt(...);\n",
      "\n",
      "   Input parameters:\n",
      "         f     : Input data.\n",
      "         g     : Window function.\n",
      "         a     : Length of time shift.\n",
      "         M     : Number of channels.\n",
      "         L     : Length of transform to do.\n",
      "         lt    : Lattice type (for non-separable lattices).\n",
      "   Output parameters:\n",
      "         c     : $M \\times N$ array of coefficients.\n",
      "         Ls    : Length of input signal.\n",
      "\n",
      "   `dgt(f,g,a,M)` computes the Gabor coefficients (also known as a windowed\n",
      "   Fourier transform) of the input signal *f* with respect to the window\n",
      "   *g* and parameters *a* and *M*. The output is a vector/matrix in a\n",
      "   rectangular layout.\n",
      "\n",
      "   The length of the transform will be the smallest multiple of *a* and *M*\n",
      "   that is larger than the signal. *f* will be zero-extended to the length of\n",
      "   the transform. If *f* is a matrix, the transformation is applied to each\n",
      "   column. The length of the transform done can be obtained by\n",
      "   `L=size(c,2)*a;`\n",
      "\n",
      "   The window *g* may be a vector of numerical values, a text string or a\n",
      "   cell array. See the help of |gabwin| for more details.\n",
      "\n",
      "   `dgt(f,g,a,M,L)` computes the Gabor coefficients as above, but does\n",
      "   a transform of length *L*. f will be cut or zero-extended to length *L* before\n",
      "   the transform is done.\n",
      "\n",
      "   `[c,Ls]=dgt(f,g,a,M)` or `[c,Ls]=dgt(f,g,a,M,L)` additionally returns the\n",
      "   length of the input signal *f*. This is handy for reconstruction::\n",
      "\n",
      "               [c,Ls]=dgt(f,g,a,M);\n",
      "               fr=idgt(c,gd,a,Ls);\n",
      "\n",
      "   will reconstruct the signal *f* no matter what the length of *f* is, provided\n",
      "   that *gd* is a dual window of *g*.\n",
      "\n",
      "   `[c,Ls,g]=dgt(...)` additionally outputs the window used in the\n",
      "   transform. This is useful if the window was generated from a description\n",
      "   in a string or cell array.\n",
      "\n",
      "   The Discrete Gabor Transform is defined as follows: Consider a window *g*\n",
      "   and a one-dimensional signal *f* of length *L* and define $N=L/a$.\n",
      "   The output from `c=dgt(f,g,a,M)` is then given by:\n",
      "\n",
      "   ..              L-1\n",
      "      c(m+1,n+1) = sum f(l+1)*conj(g(l-a*n+1))*exp(-2*pi*i*m*l/M),\n",
      "                   l=0\n",
      "\n",
      "   .. math:: c\\left(m+1,n+1\\right)=\\sum_{l=0}^{L-1}f(l+1)\\overline{g(l-an+1)}e^{-2\\pi ilm/M}\n",
      "\n",
      "   where $m=0,\\ldots,M-1$ and $n=0,\\ldots,N-1$ and $l-an$ is computed\n",
      "   modulo *L*.\n",
      "\n",
      "   Non-separable lattices:\n",
      "   -----------------------\n",
      "\n",
      "   `dgt(f,g,a,M,'lt',lt)` computes the DGT for a non-separable lattice\n",
      "   given by the time-shift *a*, number of channels *M* and lattice type\n",
      "   *lt*. Please see the help of |matrix2latticetype| for a precise\n",
      "   description of the parameter *lt*.\n",
      "\n",
      "   The non-separable discrete Gabor transform is defined as follows:\n",
      "   Consider a window *g* and a one-dimensional signal *f* of length *L* and\n",
      "   define $N=L/a$.  The output from `c=dgt(f,g,a,M,L,lt)` is then given\n",
      "   by:\n",
      "\n",
      "   ..              L-1\n",
      "      c(m+1,n+1) = sum f(l+1)*conj(g(l-a*n+1))*exp(-2*pi*i*(m+w(n))*l/M),\n",
      "                   l=0\n",
      "\n",
      "   .. math:: c\\left(m+1,n+1\\right)=\\sum_{l=0}^{L-1}f(l+1)\\overline{g(l-an+1)}e^{-2\\pi il(m+w(n))/M}\n",
      "\n",
      "   where $m=0,\\ldots,M-1$ and $n=0,\\ldots,N-1$ and $l-an$ are computed\n",
      "   modulo *L*.  The additional offset $w$ is given by $w(n)=\\mod(n\\cdot lt_1,lt_2)/lt_2$\n",
      "   in the formula above.\n",
      "\n",
      "   Additional parameters:\n",
      "   ----------------------\n",
      "\n",
      "   `dgt` takes the following flags at the end of the line of input\n",
      "   arguments:\n",
      "\n",
      "     'freqinv'  Compute a DGT using a frequency-invariant phase. This\n",
      "                is the default convention described above.\n",
      "\n",
      "     'timeinv'  Compute a DGT using a time-invariant phase. This\n",
      "                convention is typically used in FIR-filter algorithms.\n",
      "\n",
      "   Examples:\n",
      "   ---------\n",
      "\n",
      "   In the following example we create a Hermite function, which is a\n",
      "   complex-valued function with a circular spectrogram, and visualize\n",
      "   the coefficients using both `imagesc` and |plotdgt|:::\n",
      "\n",
      "     a=10;\n",
      "     M=40;\n",
      "     L=a*M;\n",
      "     h=pherm(L,4); % 4th order hermite function.\n",
      "     c=dgt(h,'gauss',a,M);\n",
      "\n",
      "     % Simple plot: The squared modulus of the coefficients on\n",
      "     % a linear scale\n",
      "     figure(1);\n",
      "     imagesc(abs(c).^2);\n",
      "\n",
      "     % Better plot: zero-frequency is displayed in the middle,\n",
      "     % and the coefficients are show on a logarithmic scale.\n",
      "     figure(2);\n",
      "     plotdgt(c,a,'dynrange',50);\n",
      "\n",
      "   See also:  idgt, gabwin, dwilt, gabdual, phaselock\n",
      "\n",
      "   Demos:  demo_dgt\n",
      "\n",
      "   References: fest98 gr01\n",
      "\n",
      "\n",
      "Additional help for built-in functions and operators is\n",
      "available in the online version of the manual.  Use the command\n",
      "'doc <topic>' to search the manual index.\n",
      "\n",
      "Help and information about Octave is also available on the WWW\n",
      "at https://www.octave.org and via the help@octave.org\n",
      "mailing list.\n"
     ]
    },
    {
     "data": {
      "text/plain": [
       "0.0"
      ]
     },
     "execution_count": 3,
     "metadata": {},
     "output_type": "execute_result"
    }
   ],
   "source": [
    "lp.octave.eval('help dgt')"
   ]
  },
  {
   "cell_type": "markdown",
   "id": "d4d63134-ab3f-431b-a49a-2e7a589ee98f",
   "metadata": {},
   "source": [
    "## Use a test signal from LTFAT, in Octave"
   ]
  },
  {
   "cell_type": "code",
   "execution_count": null,
   "id": "43d0f21a-6a47-4a6a-99be-cd44e4a3b1bf",
   "metadata": {},
   "outputs": [],
   "source": [
    "lp.octave.eval('f=bat;')\n",
    "ptr = lp.octave.get_pointer('f')\n",
    "#when passed as a pointer, the Octave vector will be interpreted as a numpy array\n",
    "plt.plot(ptr.value)\n",
    "plt.ylabel('A bat signal')\n",
    "plt.show()\n"
   ]
  },
  {
   "cell_type": "markdown",
   "id": "60e107e7-6854-4c41-a0c2-dfc648160cc2",
   "metadata": {},
   "source": [
    "## Calculate the DGT, in Python"
   ]
  },
  {
   "cell_type": "code",
   "execution_count": null,
   "id": "9b2f84bf-b5a0-4813-b14f-233e576cc36b",
   "metadata": {},
   "outputs": [],
   "source": [
    "g = \"gauss\"\n",
    "a = 10\n",
    "M = 40\n",
    "c=lp.octave.dgt(ptr.value,g,a,M);"
   ]
  },
  {
   "cell_type": "markdown",
   "id": "9525a5a2-3ba9-4c7e-8fbf-1acea981cdad",
   "metadata": {},
   "source": [
    "## Plot the (complex) Gabor coefficients, in Python"
   ]
  },
  {
   "cell_type": "code",
   "execution_count": null,
   "id": "17709be7-ddd4-49fb-98a4-410d133656db",
   "metadata": {
    "scrolled": true
   },
   "outputs": [],
   "source": [
    "fig, ax = plt.subplots()\n",
    "im = ax.imshow(abs(c))"
   ]
  }
 ],
 "metadata": {
  "kernelspec": {
   "display_name": "Python 3 (ipykernel)",
   "language": "python",
   "name": "python3"
  },
  "language_info": {
   "codemirror_mode": {
    "name": "ipython",
    "version": 3
   },
   "file_extension": ".py",
   "mimetype": "text/x-python",
   "name": "python",
   "nbconvert_exporter": "python",
   "pygments_lexer": "ipython3",
   "version": "3.11.5"
  }
 },
 "nbformat": 4,
 "nbformat_minor": 5
}
