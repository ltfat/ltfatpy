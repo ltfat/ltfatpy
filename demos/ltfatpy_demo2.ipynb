{
 "cells": [
  {
   "cell_type": "code",
   "execution_count": 1,
   "id": "a7873ecc-10e9-42b4-9d57-53b2bfd32aa6",
   "metadata": {},
   "outputs": [
    {
     "ename": "ModuleNotFoundError",
     "evalue": "No module named 'scipy'",
     "output_type": "error",
     "traceback": [
      "\u001b[0;31m---------------------------------------------------------------------------\u001b[0m",
      "\u001b[0;31mModuleNotFoundError\u001b[0m                       Traceback (most recent call last)",
      "Cell \u001b[0;32mIn[1], line 1\u001b[0m\n\u001b[0;32m----> 1\u001b[0m \u001b[38;5;28;01mimport\u001b[39;00m \u001b[38;5;21;01mscipy\u001b[39;00m\n",
      "\u001b[0;31mModuleNotFoundError\u001b[0m: No module named 'scipy'"
     ]
    }
   ],
   "source": [
    "import sys, os\n",
    "#this path is for my debugging and depends on the virtual environment used (can be uncommented)\n",
    "sys.path.append(\"/home/clara/Documents/clara/lib/python3.11/site-packages/\")\n",
    "#--------------------------------------------------------------------------------------\n",
    "import numpy as np\n",
    "import matplotlib.pyplot as plt\n",
    "#this is messy, but reasonably stable and more versatile as long as there is no full package installation\n",
    "os.chdir('..')\n",
    "from ltfatpy.modules import gabor"
   ]
  },
  {
   "cell_type": "code",
   "execution_count": 2,
   "id": "116bbbe9-5d48-468a-8911-627d5db02884",
   "metadata": {},
   "outputs": [
    {
     "data": {
      "text/plain": [
       "['/home/clara/Documents',\n",
       " '/usr/lib/python311.zip',\n",
       " '/usr/lib/python3.11',\n",
       " '/usr/lib/python3.11/lib-dynload',\n",
       " '',\n",
       " '/usr/lib/python3.11/site-packages']"
      ]
     },
     "execution_count": 2,
     "metadata": {},
     "output_type": "execute_result"
    }
   ],
   "source": [
    "import sys\n",
    "sys.path"
   ]
  },
  {
   "cell_type": "code",
   "execution_count": 3,
   "id": "eb4d20d8-72bd-4960-99f8-4f9a4d3cdde5",
   "metadata": {},
   "outputs": [],
   "source": [
    "sys.path.append(\"/home/clara/Documents/clara/lib/python3.11/site-packages/\")"
   ]
  },
  {
   "cell_type": "code",
   "execution_count": 4,
   "id": "252a0a58-e0fe-4215-a02b-26040eaa8dfa",
   "metadata": {},
   "outputs": [
    {
     "data": {
      "text/plain": [
       "['/home/clara/Documents',\n",
       " '/usr/lib/python311.zip',\n",
       " '/usr/lib/python3.11',\n",
       " '/usr/lib/python3.11/lib-dynload',\n",
       " '',\n",
       " '/usr/lib/python3.11/site-packages',\n",
       " '/home/clara/Documents/clara/lib/python3.11/site-packages/']"
      ]
     },
     "execution_count": 4,
     "metadata": {},
     "output_type": "execute_result"
    }
   ],
   "source": [
    "sys.path"
   ]
  },
  {
   "cell_type": "code",
   "execution_count": 5,
   "id": "afcb29b6-77da-46b7-9a17-678a495d17a8",
   "metadata": {},
   "outputs": [],
   "source": [
    "import scipy"
   ]
  },
  {
   "cell_type": "code",
   "execution_count": 6,
   "id": "293969a7-8874-4819-aecf-0966b1f82930",
   "metadata": {},
   "outputs": [],
   "source": [
    "import oct2py"
   ]
  },
  {
   "cell_type": "code",
   "execution_count": 7,
   "id": "23164956-1f15-49d0-8665-ba174d38f0cf",
   "metadata": {},
   "outputs": [],
   "source": [
    "from oct2py import octave as ltfat"
   ]
  },
  {
   "cell_type": "code",
   "execution_count": 8,
   "id": "e783c57e-32e6-4a0a-a8a7-eb6f77a7cdb2",
   "metadata": {},
   "outputs": [
    {
     "name": "stdout",
     "output_type": "stream",
     "text": [
      "\u001b[?2004l\n",
      "\u001b[?2004l\n",
      "\u001b[?2004l\n",
      "\u001b[?2004l\n",
      "warning: function /home/clara/Documents/ltfat/thirdparty/unlocbox/utils/vec.m shadows a built-in function\n",
      "warning: called from\n",
      "    _pyeval at line 57 column 30\n",
      "\n",
      "warning: function /home/clara/Documents/ltfat/thirdparty/misc/im2double.m shadows a core library function\n",
      "warning: called from\n",
      "    _pyeval at line 57 column 30\n",
      "\n",
      "warning: function /home/clara/Documents/ltfat/mex/postpad.m shadows a core library function\n",
      "warning: called from\n",
      "    _pyeval at line 57 column 30\n",
      "\n",
      "warning: function /home/clara/Documents/ltfat/deprecated/normalize.m shadows a core library function\n",
      "warning: called from\n",
      "    _pyeval at line 57 column 30\n",
      "\n"
     ]
    },
    {
     "data": {
      "text/plain": [
       "'.:/home/clara/Documents/clara/lib/python3.11/site-packages/oct2py:/home/clara/Documents/clara/lib/python3.11/site-packages/octave_kernel:/usr/share/octave/site/m:/usr/share/octave/site/m/startup:/usr/lib/octave/8.3.0/oct/x86_64-pc-linux-gnu:/usr/share/octave/8.3.0/m:/usr/share/octave/8.3.0/m/audio:/usr/share/octave/8.3.0/m/deprecated:/usr/share/octave/8.3.0/m/elfun:/usr/share/octave/8.3.0/m/general:/usr/share/octave/8.3.0/m/geometry:/usr/share/octave/8.3.0/m/gui:/usr/share/octave/8.3.0/m/help:/usr/share/octave/8.3.0/m/image:/usr/share/octave/8.3.0/m/io:/usr/share/octave/8.3.0/m/java:/usr/share/octave/8.3.0/m/legacy:/usr/share/octave/8.3.0/m/linear-algebra:/usr/share/octave/8.3.0/m/miscellaneous:/usr/share/octave/8.3.0/m/ode:/usr/share/octave/8.3.0/m/optimization:/usr/share/octave/8.3.0/m/path:/usr/share/octave/8.3.0/m/pkg:/usr/share/octave/8.3.0/m/plot:/usr/share/octave/8.3.0/m/plot/appearance:/usr/share/octave/8.3.0/m/plot/draw:/usr/share/octave/8.3.0/m/plot/util:/usr/share/octave/8.3.0/m/polynomial:/usr/share/octave/8.3.0/m/prefs:/usr/share/octave/8.3.0/m/profiler:/usr/share/octave/8.3.0/m/set:/usr/share/octave/8.3.0/m/signal:/usr/share/octave/8.3.0/m/sparse:/usr/share/octave/8.3.0/m/specfun:/usr/share/octave/8.3.0/m/special-matrix:/usr/share/octave/8.3.0/m/startup:/usr/share/octave/8.3.0/m/statistics:/usr/share/octave/8.3.0/m/strings:/usr/share/octave/8.3.0/m/testfun:/usr/share/octave/8.3.0/m/time:/usr/share/octave/8.3.0/m/web:/usr/share/octave/8.3.0/data'"
      ]
     },
     "execution_count": 8,
     "metadata": {},
     "output_type": "execute_result"
    }
   ],
   "source": [
    "ltfat.addpath(ltfat.genpath('/home/clara/Documents/ltfat'))\n"
   ]
  },
  {
   "cell_type": "code",
   "execution_count": 9,
   "id": "313c2b5a-349d-4dcc-94ae-6e7363d6ff00",
   "metadata": {
    "scrolled": true
   },
   "outputs": [
    {
     "name": "stdout",
     "output_type": "stream",
     "text": [
      "\u001b[?2004l\n",
      "\u001b[?2004l\n",
      "\u001b[?2004l\n",
      "\u001b[?2004l\n",
      "\u001b[?2004l\n",
      "\u001b[?2004l\n"
     ]
    }
   ],
   "source": [
    "a=10;\n",
    "M=40;\n",
    "L=a*M;\n",
    "h=ltfat.pherm(L,4); # 4th order hermite function.\n",
    "c=ltfat.dgt(h,'gauss',a,M);"
   ]
  },
  {
   "cell_type": "code",
   "execution_count": 10,
   "id": "d9b179d6-933f-4e8a-8556-3dee78b1af6f",
   "metadata": {},
   "outputs": [
    {
     "name": "stdout",
     "output_type": "stream",
     "text": [
      "\u001b[?2004l\n",
      "\u001b[?2004l\n",
      "\u001b[?2004l\n",
      "\u001b[?2004l\n",
      "\u001b[?2004l\n",
      "\u001b[?2004l\n",
      "\u001b[?2004l\n",
      "\u001b[?2004l\n",
      "\u001b[?2004l\n"
     ]
    }
   ],
   "source": [
    "ltfat.figure(1);\n",
    "ltfat.imagesc(ltfat.abs(c));"
   ]
  },
  {
   "cell_type": "code",
   "execution_count": 13,
   "id": "6e5b7d7f-c9fc-4175-9785-d3e23bcbf9e1",
   "metadata": {},
   "outputs": [
    {
     "name": "stdout",
     "output_type": "stream",
     "text": [
      "\u001b[?2004l\n",
      "\u001b[?2004l\n",
      "\u001b[?2004l\n",
      "Redundancy (geom. f-spacing fb 1):                3.85\n",
      "\n",
      "Frame bound ratio (geom. f-spacing fb 1):                2.34\n",
      "\n",
      "Approximated Q-factor of the Cauchy wavelet with alpha parameter 300: 5.21\n",
      "\n",
      "Approximated Q-factor of the Cauchy wavelet with alpha parameter 700: 7.96\n",
      "\n",
      "Redundancy (geom. f-spacing fb 2):                8.59\n",
      "\n",
      "Frame bound ratio (geom. f-spacing fb 2):                1.50\n",
      "\n",
      "Redundancy (lin. f-spacing fb 3):                92.50\n",
      "\n",
      "Frame bound ratio (lin. f-spacing fb 3):                1.35\n",
      "\n",
      "Reconstruction error (geom. f-spacing fb 3):       6.942840e-15\n",
      "\n",
      "Redundancy (lin. f-spacing fb 4):                4.02\n",
      "\n",
      "Frame bound ratio (lin. f-spacing fb 4):                1.51\n",
      "\n",
      "Reconstruction error (lin. f-spacing fb 4):       9.883540e-15\n",
      "\n"
     ]
    },
    {
     "data": {
      "text/plain": [
       "array([[0.04473789],\n",
       "       [0.04469105],\n",
       "       [0.04455399],\n",
       "       ...,\n",
       "       [0.04433688],\n",
       "       [0.04455399],\n",
       "       [0.04469105]])"
      ]
     },
     "execution_count": 13,
     "metadata": {},
     "output_type": "execute_result"
    }
   ],
   "source": [
    "ltfat.eval(\"demo_waveletfilters\")"
   ]
  },
  {
   "cell_type": "code",
   "execution_count": 14,
   "id": "8ab3bfab-802b-446b-9ce8-8e19dc51fc36",
   "metadata": {},
   "outputs": [
    {
     "name": "stdout",
     "output_type": "stream",
     "text": [
      "\u001b[?2004l\n",
      "\u001b[?2004l\n",
      "\u001b[?2004l\n"
     ]
    },
    {
     "data": {
      "text/plain": [
       "'DEMO_WAVELETFILTERS  Invertible wavelet filter banks via grid-like sampling\\n\\n   This demo shows how to generate invertible wavelet filter \\n   banks.\\n\\n   The following wavelet filter banks are produced:\\n\\n\\n   .. figure::\\n\\n      Non-uniformly sampled wavelet filter bank\\n\\n      The figure shows a non-uniformly sampled invertible filter bank with \\n      conventional, geometric frequency spacing.\\n\\n\\n   .. figure::\\n\\n      Non-uniformly sampled wavelet filter bank\\n\\n      The figure shows a non-uniformly sampled invertible filter bank with \\n      geometric frequency spacing, a higher redundancy and using\\n      a wavelet with different Q-factor.\\n\\n\\n   .. figure::\\n\\n      Uniformly sampled wavelet filter bank\\n\\n      The figure shows a uniformly sampled invertible filter bank with geometric \\n      frequency spacing, where the scales are passed directly as input\\n      arguments.\\n\\n\\n   .. figure::\\n\\n      Uniformly sampled wavelet filter bank\\n\\n      The figure shows a uniformly sampled invertible filter bank with linear \\n      frequency spacing where the compensation channel index is passed directly.\\n      invertibility is achieved by passing a small delay to the filter\\n      generator.\\n\\n\\n   .. figure::\\n\\n      The figure shows a comparison of the filter center frequency spacing.\\n\\n\\n\\n\\n   See also: waveletfilters, freqwavelet, lowdiscrepancy, filterbankrealdual\\n'"
      ]
     },
     "execution_count": 14,
     "metadata": {},
     "output_type": "execute_result"
    }
   ],
   "source": [
    "ltfat.help(\"demo_waveletfilters\")"
   ]
  },
  {
   "cell_type": "code",
   "execution_count": null,
   "id": "346f7346-d7bb-4595-899d-cbcfde9af181",
   "metadata": {},
   "outputs": [],
   "source": []
  }
 ],
 "metadata": {
  "kernelspec": {
   "display_name": "Python 3 (ipykernel)",
   "language": "python",
   "name": "python3"
  },
  "language_info": {
   "codemirror_mode": {
    "name": "ipython",
    "version": 3
   },
   "file_extension": ".py",
   "mimetype": "text/x-python",
   "name": "python",
   "nbconvert_exporter": "python",
   "pygments_lexer": "ipython3",
   "version": "3.11.5"
  }
 },
 "nbformat": 4,
 "nbformat_minor": 5
}
